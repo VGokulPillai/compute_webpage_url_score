{
  "nbformat": 4,
  "nbformat_minor": 0,
  "metadata": {
    "colab": {
      "name": " compute_webpage_url_score.ipynb",
      "provenance": [],
      "authorship_tag": "ABX9TyOcfVtUyLyJ4uD+4ZU9wdlw",
      "include_colab_link": true
    },
    "kernelspec": {
      "name": "python3",
      "display_name": "Python 3"
    },
    "language_info": {
      "name": "python"
    }
  },
  "cells": [
    {
      "cell_type": "markdown",
      "metadata": {
        "id": "view-in-github",
        "colab_type": "text"
      },
      "source": [
        "<a href=\"https://colab.research.google.com/github/VGokulPillai/compute_webpage_url_score/blob/main/compute_webpage_url_score.ipynb\" target=\"_parent\"><img src=\"https://colab.research.google.com/assets/colab-badge.svg\" alt=\"Open In Colab\"/></a>"
      ]
    },
    {
      "cell_type": "code",
      "source": [
        "!pip install spacy==2.3.7\n",
        "!pip install textacy\n",
        "!pip install neomodel"
      ],
      "metadata": {
        "id": "7SRYdwcRTF8Z"
      },
      "execution_count": null,
      "outputs": []
    },
    {
      "cell_type": "code",
      "source": [
        "import spacy\n",
        "print(spacy.__version__)"
      ],
      "metadata": {
        "colab": {
          "base_uri": "https://localhost:8080/"
        },
        "id": "ljeyN5gcTBnn",
        "outputId": "6e618224-dc23-46ea-cb3f-23615245daa2"
      },
      "execution_count": null,
      "outputs": [
        {
          "output_type": "stream",
          "name": "stdout",
          "text": [
            "2.3.7\n"
          ]
        }
      ]
    },
    {
      "cell_type": "code",
      "source": [
        "!python -m spacy download en"
      ],
      "metadata": {
        "id": "QOlW3EpdaXEc"
      },
      "execution_count": null,
      "outputs": []
    },
    {
      "cell_type": "code",
      "source": [
        "import spacy\n",
        "nlp = spacy.load(\"en_core_web_sm\")"
      ],
      "metadata": {
        "id": "F0EnDLkc-WyA"
      },
      "execution_count": null,
      "outputs": []
    },
    {
      "cell_type": "code",
      "source": [
        "!git clone https://github.com/huggingface/neuralcoref.git"
      ],
      "metadata": {
        "id": "th0nsHTlTqs-"
      },
      "execution_count": null,
      "outputs": []
    },
    {
      "cell_type": "code",
      "source": [
        "import os\n",
        "os.chdir(\"/content/neuralcoref\")\n",
        "!pip install -r requirements.txt\n",
        "!pip install -e ."
      ],
      "metadata": {
        "id": "yAp6q0qs-y9Y"
      },
      "execution_count": null,
      "outputs": []
    },
    {
      "cell_type": "code",
      "source": [
        "import logging;\n",
        "logging.basicConfig(level=logging.INFO)"
      ],
      "metadata": {
        "id": "DZAeqZCrIYwo"
      },
      "execution_count": null,
      "outputs": []
    },
    {
      "cell_type": "code",
      "source": [
        "import neuralcoref"
      ],
      "metadata": {
        "colab": {
          "base_uri": "https://localhost:8080/"
        },
        "id": "ICnTdiN_IlEq",
        "outputId": "ae4f28cb-3965-44e8-cb02-373489f6f97c"
      },
      "execution_count": null,
      "outputs": [
        {
          "output_type": "stream",
          "name": "stderr",
          "text": [
            "INFO:neuralcoref:Loading model from /root/.neuralcoref_cache/neuralcoref\n"
          ]
        }
      ]
    },
    {
      "cell_type": "code",
      "source": [
        "inquiries = { 'name' : \"Organic Shelled Hemp seeds\",\n",
        "              'supplier_countries' : \"GB\",\n",
        "              'description' :\"Hi ,Im looking for Organic shelled hemp seeds -300kgs delivered to Rochdale. The product will have to be handled in a nut free site. We would like a declaration from the supplier to confirm the allergen information.\"\n",
        "}"
      ],
      "metadata": {
        "id": "0K4t9DmZPE87"
      },
      "execution_count": null,
      "outputs": []
    },
    {
      "cell_type": "code",
      "source": [
        "text = inquiries['description']"
      ],
      "metadata": {
        "id": "Rt0WJZCKPHSZ"
      },
      "execution_count": null,
      "outputs": []
    },
    {
      "cell_type": "code",
      "source": [
        "import spacy\n",
        "from urllib.parse import urlparse\n",
        "\n",
        "\n",
        "nlp = spacy.load(\"en_core_web_sm\")\n",
        "print(text)\n",
        "doc = nlp(text)\n",
        "# Analyze syntax\n",
        "print(\"Noun phrases:\", [chunk.text for chunk in doc.noun_chunks])\n",
        "print(\"Verbs:\", [token.lemma_ for token in doc if token.pos_ == \"VERB\"])\n",
        "\n",
        "\n",
        "# Find named entities, phrases and concepts\n",
        "for entity in doc.ents:\n",
        "    print(entity.text, entity.label_)\n",
        "neuralcoref.add_to_pipe(nlp)\n",
        "coref = doc._.has_coref\n",
        "if coref:\n",
        "  print(doc._.coref_clusters)\n",
        "  text = nlp(text._.coref_resolved)"
      ],
      "metadata": {
        "id": "ZJQP4643MX7Y"
      },
      "execution_count": null,
      "outputs": []
    },
    {
      "cell_type": "code",
      "source": [
        "import spacy\n",
        "import textacy\n",
        "import knowledgeExtraction\n",
        "import pandas as pd\n",
        "import entityRecognitionLinking\n",
        "import re\n",
        "from urllib.parse import urlparse\n",
        "import nltk\n",
        "from nltk.stem.porter import *\n",
        "stemmer = PorterStemmer()\n",
        "\n",
        "from difflib import SequenceMatcher\n",
        "def similar(a, b):\n",
        "    return SequenceMatcher(None, a, b).ratio()\n",
        "\n",
        "nlp = spacy.load(\"en_core_web_sm\")\n",
        "\n",
        "\n",
        "#Removing Unwanted things\n",
        "inputText = re.sub(r'\\.(?=[^ \\W\\d])','.,', text)\n",
        "entityRecognitionLinkingObj = entityRecognitionLinking.EntityRecognitionLinking()\n",
        "entityRelJson = entityRecognitionLinkingObj.entityRecogLink(text)\n",
        "\n",
        "stemmer_list = []\n",
        "for resource in entityRelJson['Resources']:\n",
        "  print(resource[\"@surfaceForm\"] + ' --> ' + stemmer.stem(resource[\"@surfaceForm\"]))\n",
        "  stemmer_list.append(stemmer.stem(resource[\"@surfaceForm\"]))\n",
        "stemmer_list_inquiry_kws = set(stemmer_list)\n",
        "\n",
        "def compute_webpage_url_score(page_url: str):\n",
        "  stemmer_list = []\n",
        "  last_url_path_part = urlparse(page_url).path.strip('/').split('/')[-1]\n",
        "  if last_url_path_part.endswith('.html'):\n",
        "    last_url_path_part = last_url_path_part[:-5]\n",
        "  last_url_path_part = last_url_path_part.split(\"-\")\n",
        "  for tok in last_url_path_part:\n",
        "     print(tok + ' --> ' + stemmer.stem(tok))\n",
        "     stemmer_list.append(stemmer.stem(tok))\n",
        "  product_words_extracted =' '.join(stemmer_list)\n",
        "  return  product_words_extracted\n",
        "\n",
        "\n",
        "page_url = \"https://impactfoods.co.uk/products/hemp-seeds-shelled\"\n",
        "product_words_extracted = compute_webpage_url_score(page_url)\n",
        "nlp = spacy.load('en_core_web_sm')\n",
        "nlp.add_pipe('dbpedia_spotlight')\n",
        "doc = nlp(product_words_extracted)\n",
        "\n",
        "for ent in doc.ents:\n",
        "  print(ent.text,ent._.dbpedia_raw_result['@similarityScore'], ent.kb_id_)\n",
        "  product_words = ent.text\n",
        "\n",
        "product_words_splited = product_words.split(\" \")\n",
        "product_words_splited = set(product_words_splited)\n",
        "print(\"product_words_splited: \",product_words_splited)\n",
        "print(\"list_inquiry_keywords: \",stemmer_list_inquiry_kws)\n",
        "common_words = product_words_splited.intersection(stemmer_list_inquiry_kws)\n",
        "print(\"Common_Keywords:\",common_words)\n",
        "webpage_url_score = 2 * len(common_words) / (len(product_words_splited) + len(stemmer_list_inquiry_kws))\n",
        "print(\"webpage_url_score:\",webpage_url_score)"
      ],
      "metadata": {
        "colab": {
          "base_uri": "https://localhost:8080/"
        },
        "id": "-idqfq7SN_9g",
        "outputId": "6f9b62a8-9724-4dc3-bb21-a0cb626cc1dc"
      },
      "execution_count": null,
      "outputs": [
        {
          "output_type": "stream",
          "name": "stdout",
          "text": [
            "{\n",
            "    \"@confidence\": \"0.35\",\n",
            "    \"@policy\": \"whitelist\",\n",
            "    \"@sparql\": \"\",\n",
            "    \"@support\": \"0\",\n",
            "    \"@text\": \"Hi ,Im looking for Organic shelled hemp seeds -300kgs delivered to Rochdale. The product will have to be handled in a nut free site. We would like a declaration from the supplier to confirm the allergen information.\",\n",
            "    \"@types\": \"\",\n",
            "    \"Resources\": [\n",
            "        {\n",
            "            \"@URI\": \"http://dbpedia.org/resource/Hemp\",\n",
            "            \"@offset\": \"35\",\n",
            "            \"@percentageOfSecondRank\": \"0.011092646810311921\",\n",
            "            \"@similarityScore\": \"0.9884877806876949\",\n",
            "            \"@support\": \"2130\",\n",
            "            \"@surfaceForm\": \"hemp\",\n",
            "            \"@types\": \"\"\n",
            "        },\n",
            "        {\n",
            "            \"@URI\": \"http://dbpedia.org/resource/Seed\",\n",
            "            \"@offset\": \"40\",\n",
            "            \"@percentageOfSecondRank\": \"0.010469179576643395\",\n",
            "            \"@similarityScore\": \"0.984305762411485\",\n",
            "            \"@support\": \"5889\",\n",
            "            \"@surfaceForm\": \"seeds\",\n",
            "            \"@types\": \"\"\n",
            "        },\n",
            "        {\n",
            "            \"@URI\": \"http://dbpedia.org/resource/Rochdale\",\n",
            "            \"@offset\": \"67\",\n",
            "            \"@percentageOfSecondRank\": \"0.23694214586082202\",\n",
            "            \"@similarityScore\": \"0.8075635989222991\",\n",
            "            \"@support\": \"2882\",\n",
            "            \"@surfaceForm\": \"Rochdale\",\n",
            "            \"@types\": \"Wikidata:Q486972,Schema:Place,DBpedia:PopulatedPlace,DBpedia:Place,DBpedia:Location,DBpedia:Settlement\"\n",
            "        },\n",
            "        {\n",
            "            \"@URI\": \"http://dbpedia.org/resource/Pine_nut\",\n",
            "            \"@offset\": \"118\",\n",
            "            \"@percentageOfSecondRank\": \"0.0018205547622730976\",\n",
            "            \"@similarityScore\": \"0.9981814579174468\",\n",
            "            \"@support\": \"345\",\n",
            "            \"@surfaceForm\": \"nut\",\n",
            "            \"@types\": \"\"\n",
            "        },\n",
            "        {\n",
            "            \"@URI\": \"http://dbpedia.org/resource/Allergen\",\n",
            "            \"@offset\": \"194\",\n",
            "            \"@percentageOfSecondRank\": \"0.0\",\n",
            "            \"@similarityScore\": \"1.0\",\n",
            "            \"@support\": \"689\",\n",
            "            \"@surfaceForm\": \"allergen\",\n",
            "            \"@types\": \"\"\n",
            "        }\n",
            "    ]\n",
            "}\n",
            "hemp --> hemp\n",
            "seeds --> seed\n",
            "Rochdale --> rochdal\n",
            "nut --> nut\n",
            "allergen --> allergen\n",
            "hemp --> hemp\n",
            "seeds --> seed\n",
            "shelled --> shell\n",
            "hemp seed 0.9999999999999574 http://dbpedia.org/resource/Hemp\n",
            "product_words_splited:  {'hemp', 'seed'}\n",
            "list_inquiry_keywords:  {'nut', 'allergen', 'seed', 'rochdal', 'hemp'}\n",
            "Common_Keywords: {'hemp', 'seed'}\n",
            "webpage_url_score: 0.5714285714285714\n"
          ]
        }
      ]
    },
    {
      "cell_type": "code",
      "source": [
        ""
      ],
      "metadata": {
        "id": "AIFmpOXuXcpW"
      },
      "execution_count": null,
      "outputs": []
    }
  ]
}